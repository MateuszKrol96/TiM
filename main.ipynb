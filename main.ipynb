{
 "cells": [
  {
   "cell_type": "code",
   "execution_count": 26,
   "id": "a8b01943",
   "metadata": {},
   "outputs": [
    {
     "name": "stdout",
     "output_type": "stream",
     "text": [
      "Generowanie osób\n",
      "{'praca': {'Widawa': 19878, 'Huby': 19838, 'Tarnogaj': 19802, 'Powstańców Śląskich': 19798, 'Ołbin': 19791, 'Muchobór Mały': 19789, 'Nadodrze': 19783, 'Karłowice - Różanka': 19773, 'Wojszyce': 19762, 'Przedmieście Świdnickie': 19745, 'Pilczyce - Kozanów - Popowice Północne': 19730, 'Maślice': 19723, 'Muchobór Wielki': 19721, 'Kleczków': 19716, 'Żerniki': 19710, 'Plac Grunwaldzki': 19688, 'Pracze Odrzańskie': 19682, 'Jerzmanowo - Jarnołtów - Strachowice - Osiniec': 19675, 'Bieńkowice': 19668, 'Grabiszyn - Grabiszynek': 19668, 'Pawłowice': 19658, 'Księże': 19639, 'Ołtaszyn': 19636, 'Swojczyce - Strachocin - Wojnów': 19614, 'Sołtysowice': 19597, 'Nowy Dwór': 19597, 'Gaj': 19586, 'Świniary': 19576, 'Polanowice - Poświętne - Ligota': 19560, 'Oporów': 19559, 'Leśnica': 19554, 'Kowale': 19553, 'Przedmieście Oławskie': 19537, 'Biskupin - Sępolno - Dąbie - Bartoszowice': 19529, 'Borek': 19522, 'Jagodno': 19519, 'Gądów - Popowice Południowe': 19510, 'Szczepin': 19504, 'Brochów': 19492, 'Krzyki - Partynice': 19458, 'Psie Pole - Zawidawie': 19440, 'Klecina': 19436, 'Gajowice': 19417, 'Osobowice - Rędzin': 19406, 'Lipa Piotrowska': 19404, 'Stare Miasto': 19400, 'Kuźniki': 19324, 'Zacisze - Zalesie - Szczytniki': 19282}, 'rozrywka': {'Klecina': 19931, 'Szczepin': 19901, 'Borek': 19862, 'Przedmieście Oławskie': 19859, 'Wojszyce': 19797, 'Pawłowice': 19780, 'Muchobór Wielki': 19754, 'Gądów - Popowice Południowe': 19742, 'Kowale': 19736, 'Księże': 19711, 'Huby': 19699, 'Krzyki - Partynice': 19697, 'Bieńkowice': 19695, 'Widawa': 19690, 'Gaj': 19681, 'Kleczków': 19676, 'Sołtysowice': 19669, 'Kuźniki': 19660, 'Stare Miasto': 19658, 'Jagodno': 19657, 'Brochów': 19644, 'Oporów': 19639, 'Jerzmanowo - Jarnołtów - Strachowice - Osiniec': 19633, 'Żerniki': 19613, 'Ołtaszyn': 19600, 'Grabiszyn - Grabiszynek': 19597, 'Powstańców Śląskich': 19589, 'Gajowice': 19589, 'Ołbin': 19586, 'Lipa Piotrowska': 19581, 'Nadodrze': 19570, 'Muchobór Mały': 19564, 'Przedmieście Świdnickie': 19560, 'Pracze Odrzańskie': 19558, 'Biskupin - Sępolno - Dąbie - Bartoszowice': 19508, 'Swojczyce - Strachocin - Wojnów': 19497, 'Nowy Dwór': 19491, 'Maślice': 19475, 'Karłowice - Różanka': 19469, 'Leśnica': 19461, 'Plac Grunwaldzki': 19447, 'Świniary': 19439, 'Zacisze - Zalesie - Szczytniki': 19432, 'Osobowice - Rędzin': 19417, 'Polanowice - Poświętne - Ligota': 19406, 'Tarnogaj': 19355, 'Psie Pole - Zawidawie': 19308, 'Pilczyce - Kozanów - Popowice Północne': 19271}}\n"
     ]
    }
   ],
   "source": [
    "from src.generator import generate_people, generate_peoples_journeys, count_journeys\n",
    "from collections import Counter\n",
    "\n",
    "print(\"Generowanie osób\")\n",
    "\n",
    "people_number = 1000000\n",
    "\n",
    "people = generate_people(people_number)\n",
    "generate_peoples_journeys(people)\n",
    "full = count_journeys(people)\n",
    "# nie_wroclaw = list(filter(lambda person: person['dom'] == 'NIE WROCLAW', people))\n",
    "# for e in nie_wroclaw:\n",
    "#     print(e)\n",
    "\n",
    "\n"
   ]
  },
  {
   "cell_type": "code",
   "execution_count": null,
   "id": "6cf64f33",
   "metadata": {},
   "outputs": [],
   "source": []
  },
  {
   "cell_type": "code",
   "execution_count": null,
   "id": "c931cd70",
   "metadata": {},
   "outputs": [],
   "source": []
  }
 ],
 "metadata": {
  "kernelspec": {
   "display_name": "Python 3",
   "language": "python",
   "name": "python3"
  },
  "language_info": {
   "codemirror_mode": {
    "name": "ipython",
    "version": 3
   },
   "file_extension": ".py",
   "mimetype": "text/x-python",
   "name": "python",
   "nbconvert_exporter": "python",
   "pygments_lexer": "ipython3",
   "version": "3.8.8"
  }
 },
 "nbformat": 4,
 "nbformat_minor": 5
}
